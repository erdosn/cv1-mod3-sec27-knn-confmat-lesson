{
 "cells": [
  {
   "cell_type": "markdown",
   "metadata": {},
   "source": [
    "### Questions\n",
    "* Evaluation Metrics - \n",
    "    * Always a good interview question to come up with scenarios where \n",
    "        * recall is a good metric or precision, etc\n",
    "* Distance - \n",
    "    * Euclidian vs Minikowski vs Manhattan vs other metrics"
   ]
  },
  {
   "cell_type": "markdown",
   "metadata": {},
   "source": [
    "### Objectives\n",
    "YWBAT \n",
    "* code KNN from scratch - ???\n",
    "* evaluate it using a confusion matrix\n",
    "* apply evaluation metrics to a KNN model"
   ]
  },
  {
   "cell_type": "markdown",
   "metadata": {},
   "source": [
    "### Outline"
   ]
  },
  {
   "cell_type": "code",
   "execution_count": 82,
   "metadata": {},
   "outputs": [],
   "source": [
    "import pandas as pd\n",
    "import numpy as np\n",
    "\n",
    "from sklearn.metrics import confusion_matrix, r2_score, recall_score, f1_score, precision_score, accuracy_score\n",
    "from sklearn.neighbors import KNeighborsClassifier, NearestNeighbors\n",
    "from sklearn.datasets import make_blobs\n",
    "from sklearn.model_selection import train_test_split, cross_validate\n",
    "\n",
    "import matplotlib.pyplot as plt\n",
    "import seaborn as sns"
   ]
  },
  {
   "cell_type": "code",
   "execution_count": 6,
   "metadata": {},
   "outputs": [],
   "source": [
    "# Distance Metrics\n",
    "def minkowski(v1, v2, p):\n",
    "    total_distance = np.sum(np.abs(v1 - v2)**p)\n",
    "    return total_distance**(1/p)"
   ]
  },
  {
   "cell_type": "code",
   "execution_count": 31,
   "metadata": {},
   "outputs": [],
   "source": [
    "v1 = np.array([0, 0])\n",
    "v2 = np.array([3, 4])\n",
    "v3 = np.array([2, 4.5])"
   ]
  },
  {
   "cell_type": "code",
   "execution_count": 34,
   "metadata": {},
   "outputs": [
    {
     "name": "stdout",
     "output_type": "stream",
     "text": [
      "p = 1.0\n",
      "d1 = 7.0\n",
      "d2 = 6.5\n",
      "--------------------\n",
      "p = 1.5\n",
      "d1 = 5.584250376480029\n",
      "d2 = 5.349937402825397\n",
      "--------------------\n",
      "p = 2.0\n",
      "d1 = 5.0\n",
      "d2 = 4.924428900898052\n",
      "--------------------\n",
      "p = 2.5\n",
      "d1 = 4.688140842343588\n",
      "d2 = 4.728278858112068\n",
      "--------------------\n",
      "p = 3.0\n",
      "d1 = 4.497941445275415\n",
      "d2 = 4.628011187371595\n",
      "--------------------\n",
      "p = 3.5\n",
      "d1 = 4.372215289689355\n",
      "d2 = 4.573727528347276\n",
      "--------------------\n",
      "p = 4.0\n",
      "d1 = 4.284572294953817\n",
      "d2 = 4.5432677064496225\n",
      "--------------------\n",
      "p = 4.5\n",
      "d1 = 4.221163518110637\n",
      "d2 = 4.52575314162099\n",
      "--------------------\n",
      "p = 5.0\n",
      "d1 = 4.174027662897746\n",
      "d2 = 4.515500227570816\n",
      "--------------------\n"
     ]
    }
   ],
   "source": [
    "for p in np.linspace(1, 5, 9):\n",
    "    print(\"p = {}\".format(p))\n",
    "    print(\"d1 = {}\".format(minkowski(v1, v2, p))) # is one always smaller\n",
    "    print(\"d2 = {}\".format(minkowski(v1, v3, p)))\n",
    "    print(\"-\"*20)"
   ]
  },
  {
   "cell_type": "code",
   "execution_count": 66,
   "metadata": {},
   "outputs": [],
   "source": [
    "data = make_blobs(n_samples=500, n_features=2, cluster_std=4.0, centers=2)\n",
    "points, labels = data"
   ]
  },
  {
   "cell_type": "code",
   "execution_count": 67,
   "metadata": {},
   "outputs": [
    {
     "data": {
      "image/png": "[encoded data removed]",
      "text/plain": [
       "<Figure size 360x360 with 1 Axes>"
      ]
     },
     "metadata": {
      "needs_background": "light"
     },
     "output_type": "display_data"
    }
   ],
   "source": [
    "plt.figure(figsize=(5, 5))\n",
    "color_dict = {0: 'r', 1: 'g'}\n",
    "for p, l in zip(points, labels):\n",
    "    plt.scatter(p[0], p[1], c=color_dict[l])\n",
    "plt.xlabel(\"X1\")\n",
    "plt.ylabel(\"X2\")\n",
    "plt.show()"
   ]
  },
  {
   "cell_type": "code",
   "execution_count": 68,
   "metadata": {},
   "outputs": [
    {
     "name": "stderr",
     "output_type": "stream",
     "text": [
      "/anaconda3/lib/python3.7/site-packages/sklearn/model_selection/_split.py:2179: FutureWarning: From version 0.21, test_size will always complement train_size unless both are specified.\n",
      "  FutureWarning)\n"
     ]
    }
   ],
   "source": [
    "xtrain, xtest, ytrain, ytest = train_test_split(points, labels, train_size=0.70)"
   ]
  },
  {
   "cell_type": "code",
   "execution_count": 69,
   "metadata": {},
   "outputs": [
    {
     "name": "stdout",
     "output_type": "stream",
     "text": [
      "p = 1.0, n = 3\n",
      "0.8333333333333334\n",
      "--------------------------------------------------\n",
      "p = 1.0, n = 4\n",
      "0.8466666666666667\n",
      "--------------------------------------------------\n",
      "p = 1.0, n = 5\n",
      "0.8666666666666667\n",
      "--------------------------------------------------\n",
      "p = 1.5, n = 3\n",
      "0.8533333333333334\n",
      "--------------------------------------------------\n",
      "p = 1.5, n = 4\n",
      "0.8466666666666667\n",
      "--------------------------------------------------\n",
      "p = 1.5, n = 5\n",
      "0.86\n",
      "--------------------------------------------------\n",
      "p = 2.0, n = 3\n",
      "0.86\n",
      "--------------------------------------------------\n",
      "p = 2.0, n = 4\n",
      "0.8466666666666667\n",
      "--------------------------------------------------\n",
      "p = 2.0, n = 5\n",
      "0.86\n",
      "--------------------------------------------------\n",
      "p = 2.5, n = 3\n",
      "0.8733333333333333\n",
      "--------------------------------------------------\n",
      "p = 2.5, n = 4\n",
      "0.8533333333333334\n",
      "--------------------------------------------------\n",
      "p = 2.5, n = 5\n",
      "0.8666666666666667\n",
      "--------------------------------------------------\n",
      "p = 3.0, n = 3\n",
      "0.8733333333333333\n",
      "--------------------------------------------------\n",
      "p = 3.0, n = 4\n",
      "0.8533333333333334\n",
      "--------------------------------------------------\n",
      "p = 3.0, n = 5\n",
      "0.8666666666666667\n",
      "--------------------------------------------------\n",
      "p = 3.5, n = 3\n",
      "0.8666666666666667\n",
      "--------------------------------------------------\n",
      "p = 3.5, n = 4\n",
      "0.86\n",
      "--------------------------------------------------\n",
      "p = 3.5, n = 5\n",
      "0.8666666666666667\n",
      "--------------------------------------------------\n",
      "p = 4.0, n = 3\n",
      "0.8733333333333333\n",
      "--------------------------------------------------\n",
      "p = 4.0, n = 4\n",
      "0.86\n",
      "--------------------------------------------------\n",
      "p = 4.0, n = 5\n",
      "0.8666666666666667\n",
      "--------------------------------------------------\n",
      "p = 4.5, n = 3\n",
      "0.88\n",
      "--------------------------------------------------\n",
      "p = 4.5, n = 4\n",
      "0.86\n",
      "--------------------------------------------------\n",
      "p = 4.5, n = 5\n",
      "0.88\n",
      "--------------------------------------------------\n",
      "p = 5.0, n = 3\n",
      "0.8733333333333333\n",
      "--------------------------------------------------\n",
      "p = 5.0, n = 4\n",
      "0.86\n",
      "--------------------------------------------------\n",
      "p = 5.0, n = 5\n",
      "0.8866666666666667\n",
      "--------------------------------------------------\n"
     ]
    }
   ],
   "source": [
    "for p in np.linspace(1, 5, 9):\n",
    "    for n in [3, 4, 5]:\n",
    "        print(\"p = {}, n = {}\".format(p, n))\n",
    "        knn = KNeighborsClassifier(n_neighbors=n, p=p)\n",
    "        knn.fit(xtrain, ytrain)\n",
    "        print(knn.score(xtest, ytest)) # accuracy score\n",
    "        print(\"-\"*50)"
   ]
  },
  {
   "cell_type": "code",
   "execution_count": 70,
   "metadata": {},
   "outputs": [
    {
     "data": {
      "text/plain": [
       "KNeighborsClassifier(algorithm='auto', leaf_size=30, metric='minkowski',\n",
       "           metric_params=None, n_jobs=None, n_neighbors=5, p=5,\n",
       "           weights='uniform')"
      ]
     },
     "execution_count": 70,
     "metadata": {},
     "output_type": "execute_result"
    }
   ],
   "source": [
    "knn = KNeighborsClassifier(n_neighbors=5, p=5)\n",
    "knn.fit(xtrain, ytrain)"
   ]
  },
  {
   "cell_type": "code",
   "execution_count": 59,
   "metadata": {},
   "outputs": [],
   "source": [
    "# how do we evaluate?"
   ]
  },
  {
   "cell_type": "code",
   "execution_count": 60,
   "metadata": {},
   "outputs": [],
   "source": [
    "# evaluation metrics"
   ]
  },
  {
   "cell_type": "code",
   "execution_count": 79,
   "metadata": {},
   "outputs": [],
   "source": [
    "# plot a confusion matrix\n",
    "y_pred = knn.predict(xtest)\n",
    "cm = confusion_matrix(ytest, y_pred)"
   ]
  },
  {
   "cell_type": "code",
   "execution_count": 80,
   "metadata": {},
   "outputs": [
    {
     "data": {
      "image/png": "[encoded data removed]",
      "text/plain": [
       "<Figure size 432x288 with 2 Axes>"
      ]
     },
     "metadata": {
      "needs_background": "light"
     },
     "output_type": "display_data"
    }
   ],
   "source": [
    "sns.heatmap(cm, annot=True, cmap=sns.color_palette('Greens'))\n",
    "plt.xlabel(\"Pred\")\n",
    "plt.ylabel(\"True\")\n",
    "plt.show()"
   ]
  },
  {
   "cell_type": "code",
   "execution_count": 81,
   "metadata": {},
   "outputs": [],
   "source": [
    "# example of minimizing false negatives\n",
    "\n",
    "# ad serving, predicting if an ad will get clicked.  \n",
    "# 0s - 5M+ \n",
    "# 10k - 1s\n",
    "\n",
    "# 1/500\n",
    "# if I'm using accuracy then I would make a model that always predicts 0\n",
    "# accuracy = 0.99995\n",
    "\n",
    "# in this case use recall, because recall minimizes your FN rate\n",
    "# recall -> \"better safe than sorry\"\n",
    "# recall -> \"cancer test for first/second screening\"\n",
    "\n",
    "\n",
    "# precision -> \"predicting if a baby is going to have some condition\"\n",
    "# precision -> \"if someone needs chemo\""
   ]
  },
  {
   "cell_type": "code",
   "execution_count": null,
   "metadata": {},
   "outputs": [],
   "source": [
    "cross_validate() # this tool contains a 'scoring' parameter where you can feed recall/f1/precision/accuracy"
   ]
  },
  {
   "cell_type": "code",
   "execution_count": null,
   "metadata": {},
   "outputs": [],
   "source": []
  },
  {
   "cell_type": "code",
   "execution_count": null,
   "metadata": {},
   "outputs": [],
   "source": []
  },
  {
   "cell_type": "markdown",
   "metadata": {},
   "source": [
    "### Assessment/What did we learn?\n",
    "* 100% accuracy isn't a great predictor\n",
    "* Using different metrics of distance leads to different neighborhoods\n",
    "* Reasons to favor recall over precision and vice versa\n",
    "* Confusion Matrix is a great evaluation tool\n",
    "* sklearn has a KNN tool"
   ]
  }
 ],
 "metadata": {
  "kernelspec": {
   "display_name": "Python 3",
   "language": "python",
   "name": "python3"
  },
  "language_info": {
   "codemirror_mode": {
    "name": "ipython",
    "version": 3
   },
   "file_extension": ".py",
   "mimetype": "text/x-python",
   "name": "python",
   "nbconvert_exporter": "python",
   "pygments_lexer": "ipython3",
   "version": "3.7.3"
  }
 },
 "nbformat": 4,
 "nbformat_minor": 2
}
